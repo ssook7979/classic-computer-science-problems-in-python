{
 "cells": [
  {
   "cell_type": "markdown",
   "metadata": {},
   "source": [
    "# Chapter 3. 제약 충족 문제\n",
    "- 제약 충족 문제는 도메인이라는 범위에 속하는 값을 갖는 변수로 구성\n",
    "- 변수 사이의 제약 조건을 충족하여 문제 해결\n",
    "\n",
    "제약 충족 문제의 핵심 개념\n",
    "- 제약 조건 변수(variables)\n",
    "- 도메인\n",
    "- 제약 조건(Constraint class) \n",
    "    - (충족 확인 메서드: satisfied())\n",
    "\n",
    "해결 방법\n",
    "- Prolog, Picat 같은 프로그래밍 언어는 제약 충족 문제를 해결할 수 있는 함수 제공\n",
    "- 일반적으로는 백트래킹 검색과 이를 향상시키는 몇가지 휴리스틱을 통합하여 프레임워크 구축\n",
    "\n",
    "이 장에서 살펴볼 것\n",
    "- 재귀 백트래킹 검색을 사용한 프레임워크"
   ]
  },
  {
   "cell_type": "code",
   "execution_count": null,
   "metadata": {},
   "outputs": [],
   "source": [
    "from typing import Generic, TypeVar, Dict, List, Optional\n",
    "from abc import ABC, abstractmethod\n",
    "\n",
    "V = TypeVar('V') # Variable type\n",
    "D = TypeVar('D') # Domail type\n",
    "\n",
    "# base class for Constraint\n",
    "class Constraint(Generic[V, D], ABC):\n",
    "    # variables\n",
    "    def __init__(self, variables: List[V]) -> None:\n",
    "        self.variables = variables\n",
    "\n",
    "    @abstractmethod\n",
    "    def satisfied(self, assignment: Dict[V, D]) -> bool:\n",
    "        pass\n"
   ]
  }
 ],
 "metadata": {
  "language_info": {
   "name": "python"
  },
  "orig_nbformat": 4
 },
 "nbformat": 4,
 "nbformat_minor": 2
}
