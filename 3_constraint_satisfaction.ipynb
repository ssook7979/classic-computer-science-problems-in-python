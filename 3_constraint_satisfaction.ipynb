{
 "cells": [
  {
   "cell_type": "markdown",
   "metadata": {},
   "source": [
    "# Chapter 3. 제약 충족 문제\n",
    "- 제약 충족 문제는 도메인이라는 범위에 속하는 값을 갖는 변수로 구성\n",
    "- 변수 사이의 제약 조건을 충족하여 문제 해결\n",
    "\n",
    "제약 충족 문제의 핵심 개념\n",
    "- 제약 조건 변수(variables)\n",
    "- 도메인\n",
    "- 제약 조건(Constraint class) \n",
    "    - (충족 확인 메서드: satisfied())\n",
    "\n",
    "해결 방법\n",
    "- Prolog, Picat 같은 프로그래밍 언어는 제약 충족 문제를 해결할 수 있는 함수 제공\n",
    "- 일반적으로는 백트래킹 검색과 이를 향상시키는 몇가지 휴리스틱을 통합하여 프레임워크 구축\n",
    "\n",
    "이 장에서 살펴볼 것\n",
    "- 재귀 백트래킹 검색을 사용한 프레임워크"
   ]
  },
  {
   "cell_type": "markdown",
   "metadata": {},
   "source": [
    "## 3.1 제약 충족 문제 프레잌워크 구현하기\n",
    "제약 조건 Constraint 클래스로 정의한다. 이 클래스는 제약 조건 변수(variables)와 이를 충족하는지 검사하는 메서드(satisfied())로 구성된다.\n",
    "\n",
    "Constraint 클래스를 추상 클래스로 정의하여 기본 구현을 오버라이드\n",
    "\n",
    "제약 조건이 충족되었는지 판단하는 것이 핵심"
   ]
  },
  {
   "cell_type": "code",
   "execution_count": 1,
   "metadata": {},
   "outputs": [],
   "source": [
    "from typing import Generic, TypeVar, Dict, List, Optional\n",
    "from abc import ABC, abstractmethod\n",
    "\n",
    "V = TypeVar('V') # Variable type\n",
    "D = TypeVar('D') # Domail type\n",
    "\n",
    "# base class for Constraint\n",
    "class Constraint(Generic[V, D], ABC):\n",
    "    # variables\n",
    "    def __init__(self, variables: List[V]) -> None:\n",
    "        self.variables = variables\n",
    "\n",
    "    @abstractmethod\n",
    "    def satisfied(self, assignment: Dict[V, D]) -> bool:\n",
    "        pass\n"
   ]
  },
  {
   "cell_type": "markdown",
   "metadata": {},
   "source": [
    "추상 클래스\n",
    "- 클래스 계층 구조에서 탬플릿 역할"
   ]
  },
  {
   "cell_type": "markdown",
   "metadata": {},
   "source": [
    "CSP 클래스\n",
    "- 변수, 도메인, 제약조건 저장\n",
    "- 타입 힌트에서 제네릭을 사용하여 V, D 값을 유연하게 처리\n",
    "- 변수 컬렉션: 변수의 리스트\n",
    "- 도메인 컬렉션: 변수에 가능한 값 리스트를 매핑하는 딕셔너리\n",
    "- 제약조건 컬렉션: 각 변수에 제약조건(Constraint 클래스) 리스트로 매핑된 딕셔너리"
   ]
  },
  {
   "cell_type": "code",
   "execution_count": 2,
   "metadata": {},
   "outputs": [],
   "source": [
    "from typing import Generic, TypeVar, Dict, List, Optional\n",
    "\n",
    "class CSP(Generic[V, D]):\n",
    "    def __init__(self, variables: List[V], domains: Dict[V, List[D]]) -> None:\n",
    "        self.variables: List[V] = variables # 제약조건을 확인할 변수\n",
    "        self.domains: Dict[V, List[Constraint[V, D]]] = {} # 각 변수의 도메인\n",
    "        for variable in self.variables:\n",
    "            self.constraints[variable] = []\n",
    "            if variable not in self.domains:\n",
    "                raise LookupError(\"모든 변수에 도메인이 할당되어야 합니다.\")\n",
    "            \n",
    "    def add_constraint(self, constraint: Constraint[V, D]) -> None:\n",
    "        for variable in constraint.variables:\n",
    "            if variable not in self.variables:\n",
    "                raise LookupError(\"제약 조건 변수가 아닙니다.\")\n",
    "            else:\n",
    "                self.constraint[variable].append(constraint)\n",
    "    \n",
    "    # 주어진 변수의 모든 제약 조건을 검사하여 assignment 값이 일관적인지 확인한다.\n",
    "    def consistent(self, variable: V, assignment: Dict[V, D]) -> bool:\n",
    "        for constraint in self.constraints[variable]:\n",
    "            if not constraint.satisfied(assignment):\n",
    "                return False\n",
    "        return True"
   ]
  },
  {
   "cell_type": "code",
   "execution_count": null,
   "metadata": {},
   "outputs": [],
   "source": [
    "# 주어진 변수의 모ㄴ 제ㄱ 조ㄴㅡㄹ 검ㅏㅏ여 assignment 값이 일관적인지 확인\n",
    "def consistent(self, variable:V, assignment: Dict[V, D]) -> bool:\n",
    "    for constraint in self.constraints[variable]:\n",
    "        if not constraint.satisfied(assignment):\n",
    "            return False\n",
    "    return True\n",
    "\n",
    "def backtracking_search(self, assignment: Dict[V, D] = {}) -> Optional[Dict[V, D]]:\n",
    "    # assignment는 모든 변수가 할당될 때 완료된다.(기저조건)\n",
    "    if len(assignment) == len(self.variables):\n",
    "        return assignment\n",
    "    \n",
    "    # 할당되지 않은 모든 변수를 가져온다\n",
    "    unassigned: List[V] = [v for v in self.variables if v not in assignment]\n",
    "\n",
    "    # 할당되지 않은 첫 번째 변수의 가능한 모든 도메인 값을 가져온다.\n",
    "    first: V = unassigned[0]\n",
    "    for value in self.domains[first]:\n",
    "        # 해당 변수에 가능한 모든 도메인 값 할당\n",
    "        local_assignment = assignment.copy()\n",
    "        local_assignment[first] = value\n",
    "        #local_assignment 값이 일관적이면 재귀 호출\n",
    "        # 모든 제약 조건과 일치하면(consistent() 메소드 True) 새 할당을 제자리에서(in place) 검색\n",
    "        if self.consistent(first, local_assignment):\n",
    "            result: Optional[Dict[V, D]] = self.backtracking_search(local_assignment)\n",
    "            # 결과를 찾지 못하면 백트래킹을 종료\n",
    "            if result is not None:\n",
    "                return result\n",
    "    return None # 솔루션 없음 # backtracking"
   ]
  },
  {
   "cell_type": "markdown",
   "metadata": {},
   "source": [
    "## 3.2 호주 지도 색칠 문제\n",
    "- 변수: 호주 7개 지역\n",
    "- 도메인: 색깔(빨, 파, 녹)\n",
    "- 제약 조건: 인접한 두 지역은 같은 색으로 칠할 수 없다(이진(binary) 제약 조건)"
   ]
  },
  {
   "cell_type": "code",
   "execution_count": null,
   "metadata": {},
   "outputs": [],
   "source": [
    "from typing import Dict, List, Optional\n",
    "\n",
    "class MapColoringConstraint(Constraint[str, str]):\n",
    "    def __init__(self, place1: str, place2: str) -> None:\n",
    "        super.__init__([place1, place2])\n",
    "        self.place1: str = place1\n",
    "        self.place2: str = place2\n",
    "\n",
    "    def satisfied(self, assignment: Dict[str, str]) -> bool:\n",
    "        if self.place1 not in assignment or self.place2 not in assignment:\n",
    "            return True\n",
    "        return assignment[self.place1] != assignment[self.place2]"
   ]
  },
  {
   "cell_type": "code",
   "execution_count": null,
   "metadata": {},
   "outputs": [],
   "source": [
    "class QueenConstraint(Constraint[int, int]):\n",
    "    def __init__(self, columns: List[int]) -> None:\n",
    "        super().__init__(columns)\n",
    "        self.columns: List[int] = columns\n"
   ]
  }
 ],
 "metadata": {
  "kernelspec": {
   "display_name": "Python 3.8.9 64-bit",
   "language": "python",
   "name": "python3"
  },
  "language_info": {
   "codemirror_mode": {
    "name": "ipython",
    "version": 3
   },
   "file_extension": ".py",
   "mimetype": "text/x-python",
   "name": "python",
   "nbconvert_exporter": "python",
   "pygments_lexer": "ipython3",
   "version": "3.8.9"
  },
  "orig_nbformat": 4,
  "vscode": {
   "interpreter": {
    "hash": "31f2aee4e71d21fbe5cf8b01ff0e069b9275f58929596ceb00d14d90e3e16cd6"
   }
  }
 },
 "nbformat": 4,
 "nbformat_minor": 2
}
