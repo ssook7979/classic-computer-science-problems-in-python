{
 "cells": [
  {
   "cell_type": "markdown",
   "metadata": {},
   "source": [
    "# CHAPER 2. 검색문제"
   ]
  },
  {
   "cell_type": "markdown",
   "metadata": {},
   "source": [
    "## 2.1 DNA 검색\n",
    "- nucleotide: A, C, G, T\n",
    "- codon: 3개의 nucleotide의 조합\n",
    "- 유전자(dna)는 다수의 codon으로 구성됨"
   ]
  },
  {
   "cell_type": "markdown",
   "metadata": {},
   "source": [
    "### 2.1.1 DNA 정렬\n",
    "- nucleontide를 enum으로 정의한다\n",
    "- enum 타입 중에서도 IntEnum을 사용한다.\n",
    "  - IntEnum은 <u>비교연산자</u>를 사용할 수 있음"
   ]
  },
  {
   "cell_type": "code",
   "execution_count": 6,
   "metadata": {},
   "outputs": [],
   "source": [
    "from enum import IntEnum\n",
    "from typing import Tuple, List\n",
    "\n",
    "# define type\n",
    "Nucleotide: IntEnum = IntEnum('Nucleotide', ('A', 'C', 'G', 'T'))\n",
    "Codon = Tuple[Nucleotide, Nucleotide, Nucleotide]\n",
    "Gene = List[Codon]\n",
    "\n",
    "gene_str: str = \"ACGTGGCTCTCTAACGTACGTACGTACGGGGTTTATATATACCCTAGGACTCCCTTT\"\n",
    "\n",
    "def string_to_gene(s: str) -> Gene:\n",
    "    gene: Gene = []\n",
    "    for i in range(0, len(s), 3):\n",
    "        # 현재 위치 다음에 2개의 문자가 없으면\n",
    "        # Codon으로 변환할 수 없으므로 \n",
    "        # for loop을 중지한다.\n",
    "        if (i + 2) >= len(s):\n",
    "            break\n",
    "        \n",
    "        codon: Codon = (Nucleotide[s[i]], Nucleotide[s[i + 1]], Nucleotide[s[i + 2]])\n",
    "        gene.append(codon)\n",
    "    return gene"
   ]
  },
  {
   "cell_type": "code",
   "execution_count": null,
   "metadata": {},
   "outputs": [],
   "source": [
    "my_gene: Gene = string_to_gene(gene_str)\n",
    "print(my_gene)"
   ]
  },
  {
   "cell_type": "markdown",
   "metadata": {},
   "source": [
    "### 2.1.2 선형검색\n",
    "- 찾고자 하는 요소가 발견되거나 자료구조의 끝에 도달할 때까지 순서대로 모든 요소를 검색\n",
    "- 가장 간단하고, 자연스럽고, 명백한 방법\n",
    "- 최악의 경우 자료구조의 모든 요소를 거쳐야 하므로 시간복잡도는 O(n)"
   ]
  },
  {
   "cell_type": "code",
   "execution_count": 7,
   "metadata": {},
   "outputs": [],
   "source": [
    "def linear_contains_strict(gene: Gene, key_codon: Codon) -> bool:\n",
    "    for codon in gene:\n",
    "        if codon == key_codon:\n",
    "            return True\n",
    "    return False"
   ]
  },
  {
   "cell_type": "code",
   "execution_count": null,
   "metadata": {},
   "outputs": [],
   "source": [
    "acg: Codon = (Nucleotide.A, Nucleotide.C, Nucleotide.G)\n",
    "gat: Cogon = (Nucleotide.G, Nucleotide.A, Nucleotide.T)\n",
    "print(linear_contains_strict(my_gene, acg))\n",
    "print(linear_contains_strict(my_gene, gat))"
   ]
  },
  {
   "cell_type": "markdown",
   "metadata": {},
   "source": [
    ">> 파이썬 내장 시퀀스 타입(list, tuple, range)는 모두 `__contains__()` 특수 메소드를 구현한다. 이 메소드를 사용하면 `in` 연산자를 사용하여 특정 항목을 검색할 수 있다."
   ]
  },
  {
   "cell_type": "markdown",
   "metadata": {},
   "source": [
    "### 2.1.3 이진 검색(binary search)\n",
    "- 선형 검색보다 빠른 검색 방법, `O(logN)`\n",
    "- 조건\n",
    "    - 자료구조가 정렬되어 있어야 한다.\n",
    "    - 인덱스로 접근 가능해야 한다."
   ]
  },
  {
   "cell_type": "code",
   "execution_count": 14,
   "metadata": {},
   "outputs": [
    {
     "name": "stdout",
     "output_type": "stream",
     "text": [
      "5\n"
     ]
    }
   ],
   "source": [
    "# examples of binary search\n",
    "\n",
    "def binary_search_words(words, target) -> int:\n",
    "    start, end = 0, len(words) - 1\n",
    "    while start <= end:\n",
    "        mid = (start + end) // 2\n",
    "        if words[mid] < target:\n",
    "            start = mid + 1\n",
    "        elif words[mid] > target:\n",
    "            end = mid - 1\n",
    "        else:\n",
    "            return mid\n",
    "    return -1\n",
    "\n",
    "answer = binary_search_words(\n",
    "    [\"cat\", \"dog\", \"kangaroo\", \"llama\", \"rabbit\", \"rat\", \"zebra\"],\n",
    "    \"rat\"\n",
    ")\n",
    "print(answer)"
   ]
  },
  {
   "cell_type": "code",
   "execution_count": null,
   "metadata": {},
   "outputs": [],
   "source": [
    "def binary_contains_strict(gene: Gene, key_codon: Codon) -> bool:\n",
    "    low: int = 0\n",
    "    high: int = len(gene) - 1\n",
    "    while low <= high:\n",
    "        mid: int = (low + high) // 2\n",
    "        if gene[mid] < key_codon:\n",
    "            low = mid + 1\n",
    "        elif gene[mid] > key_codon:\n",
    "            high = mid - 1\n",
    "        else:\n",
    "            return True\n",
    "    return False"
   ]
  },
  {
   "cell_type": "code",
   "execution_count": 15,
   "metadata": {},
   "outputs": [],
   "source": [
    "# python 표준 라이브러리 bisect 모듈을 사용하여 binary search 를 수행할 수 있다.\n",
    "from bisect import bisect\n",
    "\n",
    "def binary_contains_bisect(gene: Gene, key_codon: Codon) -> bool:\n",
    "    return bisect(gene, key_codon)"
   ]
  },
  {
   "cell_type": "markdown",
   "metadata": {},
   "source": [
    "### 2.1.4 제네릭 검색 예제\n",
    "- `linear_contains()`와 `binary_contains()` 함수가 모든 type에 대해 동작하도록 일반화 하기\n",
    "- python < 3.8 (아마도 3.10 인듯..)\n",
    "  - `typing_extensions` 패키지를 설치해야한다.\n",
    "  - `pip install typing_extensions`\n",
    "- `generic_search`에 정의함"
   ]
  },
  {
   "cell_type": "markdown",
   "metadata": {},
   "source": [
    "## 2.2 미로 찾기"
   ]
  },
  {
   "cell_type": "code",
   "execution_count": 2,
   "metadata": {},
   "outputs": [
    {
     "ename": "ImportError",
     "evalue": "cannot import name 'astar' from 'generic_search' (d:\\personal\\study\\classic-cs\\generic_search.py)",
     "output_type": "error",
     "traceback": [
      "\u001b[1;31m---------------------------------------------------------------------------\u001b[0m",
      "\u001b[1;31mImportError\u001b[0m                               Traceback (most recent call last)",
      "\u001b[1;32md:\\personal\\study\\classic-cs\\2_search.ipynb 셀 16\u001b[0m in \u001b[0;36m<cell line: 5>\u001b[1;34m()\u001b[0m\n\u001b[0;32m      <a href='vscode-notebook-cell:/d%3A/personal/study/classic-cs/2_search.ipynb#ch0000015?line=2'>3</a>\u001b[0m \u001b[39mimport\u001b[39;00m \u001b[39mrandom\u001b[39;00m\n\u001b[0;32m      <a href='vscode-notebook-cell:/d%3A/personal/study/classic-cs/2_search.ipynb#ch0000015?line=3'>4</a>\u001b[0m \u001b[39mfrom\u001b[39;00m \u001b[39mmath\u001b[39;00m \u001b[39mimport\u001b[39;00m sqrt\n\u001b[1;32m----> <a href='vscode-notebook-cell:/d%3A/personal/study/classic-cs/2_search.ipynb#ch0000015?line=4'>5</a>\u001b[0m \u001b[39mfrom\u001b[39;00m \u001b[39mgeneric_search\u001b[39;00m \u001b[39mimport\u001b[39;00m dfs, node_to_path, astar, Node\n\u001b[0;32m      <a href='vscode-notebook-cell:/d%3A/personal/study/classic-cs/2_search.ipynb#ch0000015?line=6'>7</a>\u001b[0m \u001b[39mclass\u001b[39;00m \u001b[39mCell\u001b[39;00m(\u001b[39mstr\u001b[39m, Enum):\n\u001b[0;32m      <a href='vscode-notebook-cell:/d%3A/personal/study/classic-cs/2_search.ipynb#ch0000015?line=7'>8</a>\u001b[0m     EMPTY   \u001b[39m=\u001b[39m \u001b[39m\"\u001b[39m\u001b[39m \u001b[39m\u001b[39m\"\u001b[39m\n",
      "\u001b[1;31mImportError\u001b[0m: cannot import name 'astar' from 'generic_search' (d:\\personal\\study\\classic-cs\\generic_search.py)"
     ]
    }
   ],
   "source": [
    "from enum import Enum\n",
    "from typing import List, NamedTuple, Callable, Optional\n",
    "import random\n",
    "from math import sqrt\n",
    "from generic_search import dfs, node_to_path, astar, Node\n",
    "\n",
    "class Cell(str, Enum):\n",
    "    EMPTY   = \" \"\n",
    "    BLOCKED = \"X\"\n",
    "    START   = \"S\"\n",
    "    GOAL    = \"G\"\n",
    "    PATH    = \"*\"\n",
    "\n",
    "# 미로의 개별 위치를 나타내기 위해\n",
    "class MazeLocation(NamedTuple):\n",
    "    row: int\n",
    "    column: int"
   ]
  },
  {
   "cell_type": "markdown",
   "metadata": {},
   "source": [
    "### 2.2.1 미로 무작위로 생성하기\n",
    "- Maze class\n",
    "  - 2차원 Cell List 생성\n",
    "  - 행 수, 열 수, 시작위치, 목표 위치에 대한 인스턴스 변수\n",
    "  - Blocked cell을 무작위로 생성한다.\n",
    "- 무작위 생성 방법\n",
    "  - 막힌 공간의 무작위 비율(임계값, sparseness: float = 0.2(default))을 설정한다.\n",
    "  - 격자의 cell을 생성할 때 random 값을 생성하도록 하여 생성된 값이 sparseness보다 클 경우 BLCOKED Cell을 생성하도록 한다.\n",
    "  - 이렇게 되면 통계적으로 막힌 공간의 분포는 임곗값의 비율과 비슷하게 된다."
   ]
  },
  {
   "cell_type": "markdown",
   "metadata": {},
   "source": [
    "### 2.2.2 기타 미로 세부사항\n",
    "- 목표 지점에 도달했는지 확인하는 기능 `goal_test`\n",
    "- 가능한 다음 위치 검색 `successors`\n",
    "  - 상하좌우 위치를 확인하여 해당 위치에서 이동할 수 있는 빈 공간을 검색\n",
    "  - 이동 가능한 모든 빈 공간(MazeLocation)의 리스트 반환"
   ]
  },
  {
   "cell_type": "markdown",
   "metadata": {},
   "source": [
    "### 2.2.3 깊이 우선 탐색(Depth-First Search, DFS)\n",
    "- 막다른 지점에 도달하여 최종 결정 지점으로 되돌아오기 전까지 가능한 깊이 탐색한다.\n",
    "- Stack 이라는 자료구조에 의존한다.\n",
    "  - LIFO(Last-In-First-Out)\n",
    "  - 최소 `push`, `pop` 기능이 동작해야 한다.\n",
    "- 구현 방법\n",
    "  - 탐색 방문하려고 하는 장소 stack: `frontier`\n",
    "  - 이미 방문할 장소 set: `explored`\n",
    "  - `frontier` 변수에서 장소를 방문하면서 방문한 곳이 목표 지점인지 계속 확인\n",
    "    - 목표 지점이라면 탐색을 종료한다.\n",
    "  - `successors` 변수에서 현재 지점을 확인하여 다음 이동할 장소를 `frontier` 변수에 추가\n",
    "  - `explored`에 방문할 장소가 있으면 방문하지 않는다.\n",
    "  - `frontier` 변수가 비어있다면 모든 장소를 방문했다는 것이므로 탐색을 종료한다.\n",
    "- `generic_search`에 정의함"
   ]
  },
  {
   "cell_type": "code",
   "execution_count": 21,
   "metadata": {},
   "outputs": [
    {
     "ename": "NameError",
     "evalue": "name 'MazeLocation' is not defined",
     "output_type": "error",
     "traceback": [
      "\u001b[1;31m---------------------------------------------------------------------------\u001b[0m",
      "\u001b[1;31mNameError\u001b[0m                                 Traceback (most recent call last)",
      "\u001b[1;32md:\\personal\\study\\classic-cs\\2_search.ipynb 셀 20\u001b[0m in \u001b[0;36m<cell line: 1>\u001b[1;34m()\u001b[0m\n\u001b[1;32m----> <a href='vscode-notebook-cell:/d%3A/personal/study/classic-cs/2_search.ipynb#ch0000026?line=0'>1</a>\u001b[0m \u001b[39mclass\u001b[39;00m \u001b[39mMaze\u001b[39;00m:\n\u001b[0;32m      <a href='vscode-notebook-cell:/d%3A/personal/study/classic-cs/2_search.ipynb#ch0000026?line=1'>2</a>\u001b[0m     \u001b[39mdef\u001b[39;00m \u001b[39m__init__\u001b[39m(\u001b[39mself\u001b[39m, rows: \u001b[39mint\u001b[39m \u001b[39m=\u001b[39m \u001b[39m10\u001b[39m, columns: \u001b[39mint\u001b[39m \u001b[39m=\u001b[39m \u001b[39m10\u001b[39m,\n\u001b[0;32m      <a href='vscode-notebook-cell:/d%3A/personal/study/classic-cs/2_search.ipynb#ch0000026?line=2'>3</a>\u001b[0m                  sparseness: \u001b[39mfloat\u001b[39m \u001b[39m=\u001b[39m \u001b[39m0.2\u001b[39m,\n\u001b[0;32m      <a href='vscode-notebook-cell:/d%3A/personal/study/classic-cs/2_search.ipynb#ch0000026?line=3'>4</a>\u001b[0m                  start: MazeLocation \u001b[39m=\u001b[39m MazeLocation(\u001b[39m0\u001b[39m, \u001b[39m0\u001b[39m),\n\u001b[0;32m      <a href='vscode-notebook-cell:/d%3A/personal/study/classic-cs/2_search.ipynb#ch0000026?line=4'>5</a>\u001b[0m                  goal: MazeLocation \u001b[39m=\u001b[39m MazeLocation(\u001b[39m9\u001b[39m, \u001b[39m9\u001b[39m)) \u001b[39m-\u001b[39m\u001b[39m>\u001b[39m \u001b[39mNone\u001b[39;00m:\n\u001b[0;32m      <a href='vscode-notebook-cell:/d%3A/personal/study/classic-cs/2_search.ipynb#ch0000026?line=5'>6</a>\u001b[0m         \u001b[39m# 기본 인스턴스 변수 초기화\u001b[39;00m\n\u001b[0;32m      <a href='vscode-notebook-cell:/d%3A/personal/study/classic-cs/2_search.ipynb#ch0000026?line=6'>7</a>\u001b[0m         \u001b[39mself\u001b[39m\u001b[39m.\u001b[39m_rows: \u001b[39mint\u001b[39m \u001b[39m=\u001b[39m rows\n",
      "\u001b[1;32md:\\personal\\study\\classic-cs\\2_search.ipynb 셀 20\u001b[0m in \u001b[0;36mMaze\u001b[1;34m()\u001b[0m\n\u001b[0;32m      <a href='vscode-notebook-cell:/d%3A/personal/study/classic-cs/2_search.ipynb#ch0000026?line=0'>1</a>\u001b[0m \u001b[39mclass\u001b[39;00m \u001b[39mMaze\u001b[39;00m:\n\u001b[0;32m      <a href='vscode-notebook-cell:/d%3A/personal/study/classic-cs/2_search.ipynb#ch0000026?line=1'>2</a>\u001b[0m     \u001b[39mdef\u001b[39;00m \u001b[39m__init__\u001b[39m(\u001b[39mself\u001b[39m, rows: \u001b[39mint\u001b[39m \u001b[39m=\u001b[39m \u001b[39m10\u001b[39m, columns: \u001b[39mint\u001b[39m \u001b[39m=\u001b[39m \u001b[39m10\u001b[39m,\n\u001b[0;32m      <a href='vscode-notebook-cell:/d%3A/personal/study/classic-cs/2_search.ipynb#ch0000026?line=2'>3</a>\u001b[0m                  sparseness: \u001b[39mfloat\u001b[39m \u001b[39m=\u001b[39m \u001b[39m0.2\u001b[39m,\n\u001b[1;32m----> <a href='vscode-notebook-cell:/d%3A/personal/study/classic-cs/2_search.ipynb#ch0000026?line=3'>4</a>\u001b[0m                  start: MazeLocation \u001b[39m=\u001b[39m MazeLocation(\u001b[39m0\u001b[39m, \u001b[39m0\u001b[39m),\n\u001b[0;32m      <a href='vscode-notebook-cell:/d%3A/personal/study/classic-cs/2_search.ipynb#ch0000026?line=4'>5</a>\u001b[0m                  goal: MazeLocation \u001b[39m=\u001b[39m MazeLocation(\u001b[39m9\u001b[39m, \u001b[39m9\u001b[39m)) \u001b[39m-\u001b[39m\u001b[39m>\u001b[39m \u001b[39mNone\u001b[39;00m:\n\u001b[0;32m      <a href='vscode-notebook-cell:/d%3A/personal/study/classic-cs/2_search.ipynb#ch0000026?line=5'>6</a>\u001b[0m         \u001b[39m# 기본 인스턴스 변수 초기화\u001b[39;00m\n\u001b[0;32m      <a href='vscode-notebook-cell:/d%3A/personal/study/classic-cs/2_search.ipynb#ch0000026?line=6'>7</a>\u001b[0m         \u001b[39mself\u001b[39m\u001b[39m.\u001b[39m_rows: \u001b[39mint\u001b[39m \u001b[39m=\u001b[39m rows\n\u001b[0;32m      <a href='vscode-notebook-cell:/d%3A/personal/study/classic-cs/2_search.ipynb#ch0000026?line=7'>8</a>\u001b[0m         \u001b[39mself\u001b[39m\u001b[39m.\u001b[39m_columns: \u001b[39mint\u001b[39m \u001b[39m=\u001b[39m columns\n",
      "\u001b[1;31mNameError\u001b[0m: name 'MazeLocation' is not defined"
     ]
    }
   ],
   "source": [
    "class Maze:\n",
    "    def __init__(self, rows: int = 10, columns: int = 10,\n",
    "                 sparseness: float = 0.2,\n",
    "                 start: MazeLocation = MazeLocation(0, 0),\n",
    "                 goal: MazeLocation = MazeLocation(9, 9)) -> None:\n",
    "        # 기본 인스턴스 변수 초기화\n",
    "        self._rows: int = rows\n",
    "        self._columns: int = columns\n",
    "        self.start: MazeLocation = start\n",
    "        self.goal: MazeLocation = goal\n",
    "        # 격자를 빈 공간으로 채운다.\n",
    "        self._randomly_fill(rows, columns, sparseness)\n",
    "        # 시작 위치와 목표 위치를 설정한다.\n",
    "        self._grid[start.row][start.column] = Cell.START\n",
    "        self._grid[goal.row][goal.column] = Cell.GOAL\n",
    "\n",
    "    def _randomly_fill(self, rows: int, columns: int, sparseness: float):\n",
    "        for row in range(rows):\n",
    "            for column in range(columns):\n",
    "                if random.uniform(0, 1.0) < sparseness:\n",
    "                    self.grid[row][column] = Cell.BLOCKED\n",
    "    \n",
    "    def __str__(self) -> str:\n",
    "        output: str = \"\"\n",
    "        for row in self._grid:\n",
    "            output += \"\".join([c.value for c in row]) + \"\\n\"\n",
    "        return output\n",
    "\n",
    "    def goal_test(self, ml: MazeLocation) -> bool:\n",
    "        return ml == self.goal\n",
    "\n",
    "    def successors(self, ml: MazeLocation) -> List[MazeLocation]:\n",
    "        locations: List[MazeLocation] = []\n",
    "        if ml.row + 1 < self._rows and self._grid[ml.row + 1][ml.column] != Cell.BLOCKED:\n",
    "            locations.append(MazeLocation(ml.row + 1, ml.column))\n",
    "        if ml.row - 1 >= 0 and self._grid[ml.row - 1][ml.column] != Cell.BLOCKED:\n",
    "            locations.append(MazeLocation(ml.row - 1, ml.column))\n",
    "        if ml.column + 1 < self._columns and self._grid[ml.row][ml.column + 1] != Cell.BLOCKED:\n",
    "            locations.append(MazeLocation(ml.row, ml.column + 1))\n",
    "        if ml.column - 1 >= 0 and self._grid[ml.row][ml.column - 1] != Cell.BLOCKED:\n",
    "            locations.append(MazeLocation(ml.row, ml.column - 1))\n",
    "        return locations\n",
    "    \n",
    "    def mark(self, path: List[MazeLocation]):\n",
    "        for maze_location in path:\n",
    "            self._grid[maze_location.row][maze_location.column] = Cell.PATH\n",
    "        self._grid[self.start.row][self.start.column] = Cell.START\n",
    "        self._grid[self.goal.row][self.goal.column] = Cell.GOAL\n",
    "\n",
    "    def clear(self, path: List[MazeLocation]):\n",
    "        for maze_location in path:\n",
    "            self._grid[maze_location.row][maze_location.column] = Cell.EMPTY\n",
    "        self._grid[self.start.row][self.start.column] = Cell.START\n",
    "        self._grid[self.goal.row][self.goal.column] = Cell.GOAL"
   ]
  },
  {
   "cell_type": "code",
   "execution_count": null,
   "metadata": {},
   "outputs": [],
   "source": [
    "maze: Maze = Maze()\n",
    "print(maze)"
   ]
  },
  {
   "cell_type": "code",
   "execution_count": 44,
   "metadata": {},
   "outputs": [
    {
     "ename": "AttributeError",
     "evalue": "module 'generic_search' has no attribute 'node_to_path'",
     "output_type": "error",
     "traceback": [
      "\u001b[1;31m---------------------------------------------------------------------------\u001b[0m",
      "\u001b[1;31mAttributeError\u001b[0m                            Traceback (most recent call last)",
      "\u001b[1;32md:\\personal\\study\\classic-cs\\2_search.ipynb 셀 22\u001b[0m in \u001b[0;36m<cell line: 3>\u001b[1;34m()\u001b[0m\n\u001b[0;32m      <a href='vscode-notebook-cell:/d%3A/personal/study/classic-cs/2_search.ipynb#ch0000032?line=0'>1</a>\u001b[0m \u001b[39mimport\u001b[39;00m \u001b[39mgeneric_search\u001b[39;00m\n\u001b[1;32m----> <a href='vscode-notebook-cell:/d%3A/personal/study/classic-cs/2_search.ipynb#ch0000032?line=2'>3</a>\u001b[0m generic_search\u001b[39m.\u001b[39;49mnode_to_path\n",
      "\u001b[1;31mAttributeError\u001b[0m: module 'generic_search' has no attribute 'node_to_path'"
     ]
    }
   ],
   "source": [
    "m: Maze = Maze()\n",
    "print(m)\n",
    "solution1: Optional[Node[MazeLocation]] = dfs(m.start, m.goal_test, m.successors)\n",
    "if solution1 is None:\n",
    "    print(\"깊이 우선 탐색으로 길을 찾을 수 없습니다.\")\n",
    "else:\n",
    "    path1: List[MazeLocation] = node_to_path(solution1)\n",
    "    m.mark(path1)\n",
    "    print(m)\n",
    "    m.clear(path1)"
   ]
  },
  {
   "cell_type": "markdown",
   "metadata": {},
   "source": [
    "### 2.2.4 너비 우선 탐색(Breadth-First Search, BFS)\n",
    "- 깊이 우선 탐색으로 찾은 목표 지점에 대한 경로는 부자연스럽게 보일 수 있으며 최단 경로가 아닐 수 있다.\n",
    "- BFS는 탐색의 각 반복마다 출발 지점에서 한 계층의 노드를 가까운 지점부터 순차적으로 탐색함으로써 <u>항상 최단 경로를 찾는다.</u>\n",
    "- 일반적으로 더 빨리 목표 지점을 찾음\n",
    "- 최단경로(BFS), 빠른 탐색(DFS)\n",
    "- 구현\n",
    "  - Queue 필요, FIFO\n",
    "  - python의 deque 이용할 수 있다."
   ]
  },
  {
   "cell_type": "markdown",
   "metadata": {},
   "source": [
    "### 2.2.5 A* 알고리즘\n",
    "- BFS와 마찬가지로 출발 지점에서 목표 지점까지의 **최단 경로**를 찾는 것이 목표\n",
    "- 비용 함수와 휴리스틱(heuristic) 함수를 사용"
   ]
  },
  {
   "cell_type": "markdown",
   "metadata": {},
   "source": [
    "탐색을 고려하는 모든 지점에 대한 총 비용 f(n)은\n",
    "f(n) = g(n) + h(n)\n",
    "- 비용함수 g(n)\n",
    "  - 특정 지점에 도달하기 위한 비용 확인\n",
    "  - 미로찾기의 경우 한 지점으로 가기 위해 거처야 하는 점의 수\n",
    "- 휴리스틱 함수 h(n)\n",
    "  - 해당 지점에서 목표 지점까지 비용 추정\n",
    "  - h(n)이 허용 가능한 휴리스틱(admissible heuristic) 이라면 발견된 경로를 최적으로 판단\n",
    "    - 목표 지점에 도달하는데 드는 비용을 과대평가하지 않음\n",
    "    - e.g. 2차원 평면에서 직선거리 휴리스틱\n",
    "A* 알고리즘은 방문하지 않은 지점에서 다음 지점을 선택할 때 f(n)이 가장 낮은 것을 선택함\n",
    "- f(n)의 값을 우선순위 큐에 넣어 가장 낮은 f(n) 지점을 선택"
   ]
  },
  {
   "cell_type": "markdown",
   "metadata": {},
   "source": [
    "우선순위 큐\n",
    "- 이진 힙을 내부적으로 사용\n",
    "- push, pop time complexity는 O(lg n)\n",
    "- 파이썬에서는 heapq 사용\n",
    "  - heapush와 heappop의 내부에서 사용하는 비교연산을 위해 Node class에 `__lt__()` 특수 메서드 구현"
   ]
  },
  {
   "cell_type": "code",
   "execution_count": 2,
   "metadata": {},
   "outputs": [
    {
     "ename": "NameError",
     "evalue": "name 'Generic' is not defined",
     "output_type": "error",
     "traceback": [
      "\u001b[1;31m---------------------------------------------------------------------------\u001b[0m",
      "\u001b[1;31mNameError\u001b[0m                                 Traceback (most recent call last)",
      "\u001b[1;32md:\\personal\\study\\classic-cs\\2_search.ipynb 셀 27\u001b[0m in \u001b[0;36m<cell line: 1>\u001b[1;34m()\u001b[0m\n\u001b[1;32m----> <a href='vscode-notebook-cell:/d%3A/personal/study/classic-cs/2_search.ipynb#ch0000027?line=0'>1</a>\u001b[0m \u001b[39mclass\u001b[39;00m \u001b[39mPriorityQueue\u001b[39;00m(Generic[T]):\n\u001b[0;32m      <a href='vscode-notebook-cell:/d%3A/personal/study/classic-cs/2_search.ipynb#ch0000027?line=1'>2</a>\u001b[0m     \u001b[39mdef\u001b[39;00m \u001b[39m__init__\u001b[39m(\u001b[39mself\u001b[39m) \u001b[39m-\u001b[39m\u001b[39m>\u001b[39m \u001b[39mNone\u001b[39;00m:\n\u001b[0;32m      <a href='vscode-notebook-cell:/d%3A/personal/study/classic-cs/2_search.ipynb#ch0000027?line=2'>3</a>\u001b[0m         \u001b[39mself\u001b[39m\u001b[39m.\u001b[39m_container: List[T] \u001b[39m=\u001b[39m []\n",
      "\u001b[1;31mNameError\u001b[0m: name 'Generic' is not defined"
     ]
    }
   ],
   "source": [
    "class PriorityQueue(Generic[T]):\n",
    "    def __init__(self) -> None:\n",
    "        self._container: List[T] = []\n",
    "    \n",
    "    @property\n",
    "    def empty(self) -> bool:\n",
    "        return not self._container\n",
    "    \n",
    "    def push(self, item: T) -> None:\n",
    "        heappush(self._container, item)\n",
    "\n",
    "    def pop(self) -> T:\n",
    "        return heappop(self._container)\n",
    "\n",
    "    def __repr__(self) -> str:\n",
    "        return repr(self_container)"
   ]
  }
 ],
 "metadata": {
  "kernelspec": {
   "display_name": "Python 3.8.3 32-bit",
   "language": "python",
   "name": "python3"
  },
  "language_info": {
   "codemirror_mode": {
    "name": "ipython",
    "version": 3
   },
   "file_extension": ".py",
   "mimetype": "text/x-python",
   "name": "python",
   "nbconvert_exporter": "python",
   "pygments_lexer": "ipython3",
   "version": "3.8.3"
  },
  "orig_nbformat": 4,
  "vscode": {
   "interpreter": {
    "hash": "939480ed579cbcc9bd95c0bb2f0a271d068ec362d36f1415ed941c7dadb52340"
   }
  }
 },
 "nbformat": 4,
 "nbformat_minor": 2
}
